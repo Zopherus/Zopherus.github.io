{
 "cells": [
  {
   "cell_type": "code",
   "execution_count": 32,
   "metadata": {},
   "outputs": [],
   "source": [
    "import os\n",
    "import numpy as np\n",
    "import matplotlib.pyplot as plt\n",
    "import re\n",
    "import nltk\n",
    "from sklearn.datasets import load_files\n",
    "from sklearn.decomposition import IncrementalPCA\n",
    "from sklearn.mixture import GaussianMixture\n",
    "from sklearn.cluster import KMeans\n",
    "from sklearn import metrics\n",
    "import pickle\n",
    "from nltk.corpus import stopwords\n",
    "from nltk.tokenize import word_tokenize\n",
    "\n",
    "import json\n",
    "import time\n",
    "from tqdm import tqdm\n",
    "import ijson"
   ]
  },
  {
   "cell_type": "code",
   "execution_count": 33,
   "metadata": {},
   "outputs": [],
   "source": [
    "#  extract a list of words from an abstract\n",
    "def word_extraction(abstract):\n",
    "    stopwords = set(stopwords.words('english'))\n",
    "    words = word_tokenize(abstract)\n",
    "    cleaned_text = [w.lower() for w in words if w not in stopwords]\n",
    "    return cleaned_text\n",
    "\n",
    "# tokenize all abstracts and return the vocabulary\n",
    "def tokenzie(abstract_list):\n",
    "    words = []\n",
    "    for abstract in abstract_list:\n",
    "        w = word_extraction(abstract)\n",
    "        words.extend(w)\n",
    "    vocabulary = sorted(list(set(words)))\n",
    "    return vocabulary"
   ]
  },
  {
   "cell_type": "code",
   "execution_count": 34,
   "metadata": {},
   "outputs": [
    {
     "name": "stdout",
     "output_type": "stream",
     "text": [
      "Start reading file\n",
      "Done reading file using  1.7000296115875244 s\n"
     ]
    }
   ],
   "source": [
    "print(\"Start reading file\")\n",
    "reading_file_start = time.time()\n",
    "\n",
    "\n",
    "##--------- input json file where each line is a json object. -----------------------------\n",
    "with open(os.path.join(\"arxiv-metadata-oai-snapshot.json\")) as file:\n",
    "    lines = file.readlines()\n",
    "print(\"Done reading file using \",(time.time() - reading_file_start), \"s\")"
   ]
  },
  {
   "cell_type": "code",
   "execution_count": 35,
   "metadata": {},
   "outputs": [
    {
     "name": "stderr",
     "output_type": "stream",
     "text": [
      " 25%|██▍       | 121/492 [00:00<00:00, 1206.57it/s]"
     ]
    },
    {
     "name": "stdout",
     "output_type": "stream",
     "text": [
      "{'NE': 0, 'DS': 1, 'CE': 2, 'IT': 3, 'CC': 4, 'DM': 5, 'CR': 6, 'NI': 7, 'PF': 8, 'LG': 9, 'CY': 10, 'CG': 11, 'CV': 12, 'SE': 13, 'OH': 14, 'PL': 15, 'AI': 16, 'IR': 17, 'GT': 18, 'LO': 19, 'SC': 20, 'DC': 21, 'CL': 22, 'HC': 23, 'AR': 24, 'DL': 25, 'MS': 26, 'RO': 27, 'DB': 28, 'GL': 29, 'MA': 30, 'MM': 31, 'OS': 32, 'NA': 33, 'SD': 34}\n",
      "Start creating bag of words\n"
     ]
    },
    {
     "name": "stderr",
     "output_type": "stream",
     "text": [
      "100%|██████████| 492/492 [00:00<00:00, 1184.41it/s]\n",
      "100%|██████████| 492/492 [00:00<00:00, 1140.70it/s]\n"
     ]
    },
    {
     "name": "stdout",
     "output_type": "stream",
     "text": [
      "(492, 3000)\n",
      "Finished creating bag of words matrix using  1.2506039142608643 s\n"
     ]
    },
    {
     "data": {
      "text/plain": [
       "<matplotlib.image.AxesImage at 0x7fb8741c0dc0>"
      ]
     },
     "execution_count": 35,
     "metadata": {},
     "output_type": "execute_result"
    },
    {
     "data": {
      "image/png": "[encoded data removed]",
      "text/plain": [
       "<Figure size 432x288 with 2 Axes>"
      ]
     },
     "metadata": {
      "needs_background": "light"
     },
     "output_type": "display_data"
    }
   ],
   "source": [
    "data = [] # a list of json object representing an article\n",
    "abstract_list = [] # a list of abstracts\n",
    "target = [] # a list of categories for each abstract\n",
    "\n",
    "# load data, encode class label\n",
    "line_count = 0\n",
    "label2index = dict()\n",
    "label_index = 0\n",
    "for line in lines:\n",
    "    if line_count >= 10000:\n",
    "        break\n",
    "    line_count += 1\n",
    "    article = json.loads(line)\n",
    "    class_labels = article[\"categories\"].split()\n",
    "    if class_labels[0].split(\".\")[0] == \"cs\":\n",
    "        abstract_list.append(article[\"abstract\"])\n",
    "        if class_labels[0].split(\".\")[1] not in label2index.keys():\n",
    "            label2index.update({class_labels[0].split(\".\")[1]: label_index})\n",
    "            label_index += 1\n",
    "        target.append(label2index[class_labels[0].split(\".\")[1]])\n",
    "target = np.array(target)\n",
    "print(label2index)\n",
    "\n",
    "# build vocabulary, only include words with top k highest frequencies\n",
    "print(\"Start creating bag of words\")\n",
    "bow_start = time.time()\n",
    "word_frequency = dict()\n",
    "stopwords = set(stopwords.words(\"english\"))\n",
    "for abstract in tqdm(abstract_list):\n",
    "    words = word_tokenize(abstract)\n",
    "    for word in words:\n",
    "        word = word.lower() # case consistency\n",
    "        if word not in stopwords:\n",
    "            if word not in word_frequency.keys():\n",
    "                word_frequency.update({word: 1})\n",
    "            else:\n",
    "                word_frequency[word] += 1\n",
    "sorted_word_frequency = sorted(word_frequency.items(), key=lambda x: x[1], reverse=True) # sort the word frequency table by the frequency\n",
    "\n",
    "vocabulary = set()\n",
    "k = 3000\n",
    "count = 1\n",
    "for word, _ in sorted_word_frequency:\n",
    "    if count > k:\n",
    "        break\n",
    "    vocabulary.add(word)\n",
    "    count += 1\n",
    "\n",
    "\n",
    "# create map from word to index\n",
    "word2index = dict()\n",
    "index = 0\n",
    "for word in vocabulary:\n",
    "    word2index.update({word:index})\n",
    "    index += 1\n",
    "\n",
    "# create bag of words\n",
    "dataset_matrix = np.zeros( (len(abstract_list),len(word2index)))\n",
    "data_index = 0\n",
    "for abstract in tqdm(abstract_list):\n",
    "    words = [w.lower() for w in word_tokenize(abstract)] #unparsed\n",
    "    for word in words:\n",
    "        if word in vocabulary:\n",
    "            dataset_matrix[data_index, word2index[word]] += 1\n",
    "    data_index += 1\n",
    "\n",
    "# inverse document frequency\n",
    "document_frequency = np.zeros((len(word2index), 1))\n",
    "for abstract in abstract_list:\n",
    "    words = [w.lower for w in word_tokenize(abstract)]\n",
    "    for word in words:\n",
    "        if word in word2index.keys():\n",
    "            document_frequency[word2index[word]] += 1\n",
    "idf = np.log10(len(abstract_list) / (document_frequency + 1))\n",
    "\n",
    "\n",
    "# tf-idf\n",
    "original_dataset = dataset_matrix\n",
    "dataset_matrix = dataset_matrix * idf.T\n",
    "\n",
    "print(dataset_matrix.shape)\n",
    "print(\"Finished creating bag of words matrix using \",(time.time() - bow_start), \"s\")\n",
    "\n",
    "fig, axs = plt.subplots(2)\n",
    "fig.suptitle(\"Correlation between features before and after tf-idf\")\n",
    "\n",
    "correlation_before = np.corrcoef(original_dataset[:,0:20].T)\n",
    "axs[0].matshow(correlation_before)\n",
    "correlation_after = np.corrcoef(dataset_matrix[0:,0:50].T)\n",
    "axs[1].matshow(correlation_before)\n"
   ]
  },
  {
   "cell_type": "code",
   "execution_count": null,
   "metadata": {},
   "outputs": [],
   "source": []
  },
  {
   "cell_type": "code",
   "execution_count": null,
   "metadata": {},
   "outputs": [],
   "source": []
  }
 ],
 "metadata": {
  "kernelspec": {
   "display_name": "Python 3",
   "language": "python",
   "name": "python3"
  },
  "language_info": {
   "codemirror_mode": {
    "name": "ipython",
    "version": 3
   },
   "file_extension": ".py",
   "mimetype": "text/x-python",
   "name": "python",
   "nbconvert_exporter": "python",
   "pygments_lexer": "ipython3",
   "version": "3.8.3"
  }
 },
 "nbformat": 4,
 "nbformat_minor": 4
}
